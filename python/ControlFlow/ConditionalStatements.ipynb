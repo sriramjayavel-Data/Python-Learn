{
 "cells": [
  {
   "cell_type": "code",
   "execution_count": null,
   "id": "4678fbaf",
   "metadata": {},
   "outputs": [
    {
     "name": "stdout",
     "output_type": "stream",
     "text": [
      "Your are not eligible to vote\n"
     ]
    }
   ],
   "source": [
    "## if Statement\n",
    "\n",
    "age = int(input(\"Please Enter Youra Age: \"))\n",
    "if age>=18:\n",
    "    print(\"You are Eligible For Voting\")\n",
    "if age == 17:\n",
    "    print(\"Waiting for another 1 year to eligible\")\n",
    "if age < 18:\n",
    "    print(\"Your are not eligible to vote\")\n",
    "        \n",
    "\n"
   ]
  },
  {
   "cell_type": "code",
   "execution_count": null,
   "id": "77d9dc34",
   "metadata": {},
   "outputs": [
    {
     "name": "stdout",
     "output_type": "stream",
     "text": [
      "Your are minor\n"
     ]
    }
   ],
   "source": [
    "##Else\n",
    "age = 16 \n",
    "if age>=18:\n",
    "    print(\"Your are eligible for vote\")\n",
    "else:\n",
    "    print(\"Your are minor\")"
   ]
  },
  {
   "cell_type": "code",
   "execution_count": 16,
   "id": "352be482",
   "metadata": {},
   "outputs": [
    {
     "name": "stdout",
     "output_type": "stream",
     "text": [
      "Your are teenager\n"
     ]
    }
   ],
   "source": [
    "##elif -- else if ==> Allows to check multiple coonditions \n",
    "\n",
    "\n",
    "age = 14\n",
    "\n",
    "if age<=13:\n",
    "    print(\"You are child\")\n",
    "elif age < 18:\n",
    "    print(\"Your are teenager\")\n",
    "else:\n",
    "    print(\"You are eligible to vote\")\n"
   ]
  },
  {
   "cell_type": "code",
   "execution_count": 32,
   "id": "9c8e2955",
   "metadata": {},
   "outputs": [
    {
     "name": "stdout",
     "output_type": "stream",
     "text": [
      "90\n",
      "The number is Positive\n",
      "The is even\n"
     ]
    }
   ],
   "source": [
    "##Nested Conditional Statements\n",
    "# Give Number is even or odd or negative\n",
    "\n",
    "num =  int(input(\"Enter the number here: \"))\n",
    "print(num)\n",
    "\n",
    "\n",
    "\n",
    "if num>= 0 :\n",
    "    print(\"The number is Positive\")\n",
    "    if num %2==0:\n",
    "        print(\"The is even\")\n",
    "    else:\n",
    "        print(\"The number is odd\")\n",
    "else:\n",
    "    print(\"The number is negative\")\n",
    "\n",
    "\n",
    "\n",
    "\n",
    "# if '-' in num:\n",
    "#     print(num,\"The number is negative\")\n",
    "# elif num%2 ==0:\n",
    "#     print(num,\"The number is even\")\n",
    "# elif num%2 != 0:\n",
    "#     print(num,\"The number is Odd\" )\n",
    "\n",
    "\n"
   ]
  },
  {
   "cell_type": "code",
   "execution_count": null,
   "id": "5d5490e9",
   "metadata": {},
   "outputs": [
    {
     "name": "stdout",
     "output_type": "stream",
     "text": [
      "2001\n",
      "It's Not Leap Year\n"
     ]
    }
   ],
   "source": [
    "##Use Cases\n",
    "## Yes is leap or Ordinay\n",
    "\n",
    "\n",
    "year = int(input(\"Enter the Year Here: \"))\n",
    "print(year)\n",
    "\n",
    "# if year%4 == 0:\n",
    "#     print(\"Leap Year\")\n",
    "# else:\n",
    "#     print(\"It's Not Leap Year\")\n",
    "\n",
    "\n",
    "\n",
    "if year%4 == 0:\n",
    "    if year%100 == 0:\n",
    "\n"
   ]
  },
  {
   "cell_type": "code",
   "execution_count": 47,
   "id": "b697a3eb",
   "metadata": {},
   "outputs": [
    {
     "name": "stdout",
     "output_type": "stream",
     "text": [
      "2024\n",
      "0\n",
      "24\n",
      "24\n",
      "2024 is leap year,100\n"
     ]
    }
   ],
   "source": [
    "year = int(input(\"ENter the year here: \"))\n",
    "print(year)\n",
    "\n",
    "print(year%4)\n",
    "print(year%100)\n",
    "print(year%400)\n",
    "\n",
    "if year%4 == 0:\n",
    "    if year%100 == 0:\n",
    "        if year%400 == 0:\n",
    "            print(year,\"is leap year\")\n",
    "        else:\n",
    "            print(year,\"is not leap year\")\n",
    "    else:\n",
    "        print(year,\"is leap year,100\")\n",
    "else:\n",
    "    print(year,\"is not leap year\")        \n"
   ]
  },
  {
   "cell_type": "code",
   "execution_count": 59,
   "id": "b645117e",
   "metadata": {},
   "outputs": [
    {
     "name": "stdout",
     "output_type": "stream",
     "text": [
      "User Inputed Operator is :  /\n",
      "Enter valid number not Zero\n"
     ]
    }
   ],
   "source": [
    "##Assignment\n",
    "num1 = int(input(\"Enter the number1 :\"))\n",
    "num2 = int(input(\"Enter the number2 :\"))\n",
    "\n",
    "Operator = input('''Enter Your Needed Operation SymbolLike : \\n\n",
    "1.Sum() - \"+\" \\n\n",
    "2.Substraction  - \"-\"\\n\n",
    "3.Multiplication - \"*\" \\n\n",
    "4.Division - \"/\" \\n\n",
    "5.Modulus - \"%\"\\n\n",
    "6.Power - \"**\" ''')\n",
    "\n",
    "\n",
    "print(\"User Inputed Operator is : \" ,Operator)\n",
    "\n",
    "if Operator == \"+\":\n",
    "    result = num1+num2\n",
    "    print(result)\n",
    "elif Operator == \"-\":\n",
    "    result = num1-num2\n",
    "    print(result)\n",
    "elif Operator == \"*\":\n",
    "    result = num1*num2\n",
    "    print(result)\n",
    "elif Operator == \"/\":\n",
    "    \n",
    "    \n",
    "    if num2 != 0:\n",
    "        result = (num1)/(num2)\n",
    "        print(result)\n",
    "    else:\n",
    "        print(\"Enter valid number not Zero\")\n",
    "elif Operator == \"%\":\n",
    "    result = num1 % num2\n",
    "    print(result)\n",
    "elif Operator == \"**\":\n",
    "    result = num1 ** num2\n",
    "    print(result)\n",
    "else:\n",
    "    print(\"Enter Valid Operator\")\n",
    " \n",
    "\n",
    "    \n",
    "\n"
   ]
  },
  {
   "cell_type": "code",
   "execution_count": 65,
   "id": "e140ceac",
   "metadata": {},
   "outputs": [
    {
     "ename": "ValueError",
     "evalue": "invalid literal for int() with base 10: 'True'",
     "output_type": "error",
     "traceback": [
      "\u001b[31m---------------------------------------------------------------------------\u001b[39m",
      "\u001b[31mValueError\u001b[39m                                Traceback (most recent call last)",
      "\u001b[36mCell\u001b[39m\u001b[36m \u001b[39m\u001b[32mIn[65]\u001b[39m\u001b[32m, line 5\u001b[39m\n\u001b[32m      1\u001b[39m \u001b[38;5;66;03m## Assignment \u001b[39;00m\n\u001b[32m      2\u001b[39m \u001b[38;5;66;03m## Determine the filght price based on user - \u001b[39;00m\n\u001b[32m      4\u001b[39m age =  \u001b[38;5;28mint\u001b[39m(\u001b[38;5;28minput\u001b[39m(\u001b[33m\"\u001b[39m\u001b[33mEnter Your Age: \u001b[39m\u001b[33m\"\u001b[39m))\n\u001b[32m----> \u001b[39m\u001b[32m5\u001b[39m student = \u001b[38;5;28;43mint\u001b[39;49m\u001b[43m(\u001b[49m\u001b[38;5;28;43minput\u001b[39;49m\u001b[43m(\u001b[49m\u001b[33;43m'''\u001b[39;49m\u001b[33;43mYour are Student or Not /n\u001b[39;49m\n\u001b[32m      6\u001b[39m \u001b[33;43mEnter True / False \u001b[39;49m\u001b[33;43m'''\u001b[39;49m\u001b[43m)\u001b[49m\u001b[43m)\u001b[49m\n\u001b[32m      8\u001b[39m \u001b[38;5;28mprint\u001b[39m(age)\n\u001b[32m     10\u001b[39m \u001b[38;5;66;03m# if age <= 0:\u001b[39;00m\n\u001b[32m     11\u001b[39m \u001b[38;5;66;03m#     print(\"Enter valid age\")\u001b[39;00m\n\u001b[32m     12\u001b[39m \u001b[38;5;66;03m# elif age > 0 :\u001b[39;00m\n",
      "\u001b[31mValueError\u001b[39m: invalid literal for int() with base 10: 'True'"
     ]
    }
   ],
   "source": [
    "## Assignment \n",
    "## Determine the filght price based on user - \n",
    "\n",
    "age =  int(input(\"Enter Your Age: \"))\n",
    "student = int(input('''Your are Student or Not /n\n",
    "Enter True / False '''))\n",
    "\n",
    "print(age)\n",
    "\n",
    "# if age <= 0:\n",
    "#     print(\"Enter valid age\")\n",
    "# elif age > 0 :\n",
    "    \n",
    "\n",
    "if age < 5 :\n",
    "    print(\"Free Tickect\")\n",
    "elif age <=12 :\n",
    "    print(\"Tickect Price Was $100\")\n",
    "elif age <= 18 :\n",
    "    if is_student is True:\n",
    "        print(\"Ticket Price Was $120\")\n",
    "    else :\n",
    "        print(\"Tickect Price Was $150\")\n",
    "elif age > 18:\n",
    "    if age < 60:\n",
    "        print(\"The Ticket Price Was $200\")\n",
    "    else:\n",
    "        print(\"The Ticket Price was $1000\")\n",
    "\n",
    "\n",
    "    \n"
   ]
  }
 ],
 "metadata": {
  "kernelspec": {
   "display_name": "Python 3",
   "language": "python",
   "name": "python3"
  },
  "language_info": {
   "codemirror_mode": {
    "name": "ipython",
    "version": 3
   },
   "file_extension": ".py",
   "mimetype": "text/x-python",
   "name": "python",
   "nbconvert_exporter": "python",
   "pygments_lexer": "ipython3",
   "version": "3.12.0"
  }
 },
 "nbformat": 4,
 "nbformat_minor": 5
}
