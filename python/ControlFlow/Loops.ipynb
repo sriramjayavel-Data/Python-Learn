{
 "cells": [
  {
   "cell_type": "code",
   "execution_count": null,
   "id": "6a7d0460",
   "metadata": {},
   "outputs": [],
   "source": [
    "for i in range(10):\n",
    "    print(i)\n",
    "\n"
   ]
  },
  {
   "cell_type": "code",
   "execution_count": null,
   "id": "d3bc61ae",
   "metadata": {},
   "outputs": [],
   "source": [
    "##For loop\n",
    "\n",
    "for i in range(5,10,3):\n",
    "    print(i)\n"
   ]
  },
  {
   "cell_type": "code",
   "execution_count": null,
   "id": "7f334c52",
   "metadata": {},
   "outputs": [],
   "source": [
    "##For , While , Loop control statements , nested loops\n",
    "\n",
    "##str -  collection of characters\n",
    "name = \"sriram jayavel\"\n",
    "cap_name = \" \"\n",
    "\n",
    "for i in name:\n",
    "    print(i)"
   ]
  },
  {
   "cell_type": "code",
   "execution_count": null,
   "id": "901e143e",
   "metadata": {},
   "outputs": [],
   "source": [
    "##While Loop -  while loop is continously run until its true when ists false false it's stoped\n",
    "\n",
    "count=0\n",
    "\n",
    "while count<100:\n",
    "    print(count)\n",
    "    count = count+1\n",
    "\n",
    "\n",
    "\n"
   ]
  },
  {
   "cell_type": "code",
   "execution_count": null,
   "id": "a9886b33",
   "metadata": {},
   "outputs": [],
   "source": [
    "## Loop Control Statements\n",
    "##Break -  when meet the condition loop was exit premature\n",
    "\n",
    "word = \"Jeeva I love You ..... Ummaa\"\n",
    "\n",
    "for i in range(100):\n",
    "    if i ==2:\n",
    "        break\n",
    "    print(word)\n",
    "\n"
   ]
  },
  {
   "cell_type": "code",
   "execution_count": null,
   "id": "a2a6a397",
   "metadata": {},
   "outputs": [],
   "source": [
    "## Continue -  Skip the current exection and continue to next step\n",
    "\n",
    "for i in range(10):\n",
    "    if i ==3:  \n",
    "        \n",
    "        print(\"Bow..!\")\n",
    "        continue\n",
    "        \n",
    "    print(i)"
   ]
  },
  {
   "cell_type": "code",
   "execution_count": null,
   "id": "bddef01a",
   "metadata": {},
   "outputs": [],
   "source": [
    "for i in range(10):\n",
    "    if i%2==0:\n",
    "        continue\n",
    "    print(i)\n",
    "\n",
    "\n",
    "    "
   ]
  },
  {
   "cell_type": "code",
   "execution_count": 26,
   "id": "94a04f66",
   "metadata": {},
   "outputs": [
    {
     "name": "stdout",
     "output_type": "stream",
     "text": [
      "0\n",
      "1\n",
      "2\n",
      "3\n",
      "4\n",
      "5\n",
      "6\n",
      "7\n",
      "8\n",
      "9\n"
     ]
    }
   ],
   "source": [
    "##PASS - ids null opearation ; it's do nothing\n",
    "\n",
    "for i in range(10):\n",
    "    if i==3:\n",
    "        pass\n",
    "    print(i)"
   ]
  },
  {
   "cell_type": "code",
   "execution_count": null,
   "id": "923ba697",
   "metadata": {},
   "outputs": [],
   "source": [
    "## Nested Looop ( Loop inside a Loop)\n",
    "\n",
    "for i in "
   ]
  }
 ],
 "metadata": {
  "kernelspec": {
   "display_name": "Python 3",
   "language": "python",
   "name": "python3"
  },
  "language_info": {
   "codemirror_mode": {
    "name": "ipython",
    "version": 3
   },
   "file_extension": ".py",
   "mimetype": "text/x-python",
   "name": "python",
   "nbconvert_exporter": "python",
   "pygments_lexer": "ipython3",
   "version": "3.12.0"
  }
 },
 "nbformat": 4,
 "nbformat_minor": 5
}
