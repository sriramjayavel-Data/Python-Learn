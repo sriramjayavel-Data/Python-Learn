{
 "cells": [
  {
   "cell_type": "code",
   "execution_count": null,
   "id": "6a7d0460",
   "metadata": {},
   "outputs": [],
   "source": [
    "for i in range(10):\n",
    "    print(i)\n",
    "\n"
   ]
  },
  {
   "cell_type": "code",
   "execution_count": null,
   "id": "d3bc61ae",
   "metadata": {},
   "outputs": [],
   "source": [
    "##For loop\n",
    "\n",
    "for i in range(5,10,3):\n",
    "    print(i)\n"
   ]
  },
  {
   "cell_type": "code",
   "execution_count": null,
   "id": "7f334c52",
   "metadata": {},
   "outputs": [],
   "source": [
    "##For , While , Loop control statements , nested loops\n",
    "\n",
    "##str -  collection of characters\n",
    "name = \"sriram jayavel\"\n",
    "cap_name = \" \"\n",
    "\n",
    "for i in name:\n",
    "    print(i)"
   ]
  },
  {
   "cell_type": "code",
   "execution_count": null,
   "id": "901e143e",
   "metadata": {},
   "outputs": [],
   "source": [
    "##While Loop -  while loop is continously run until its true when ists false false it's stoped\n",
    "\n",
    "count=0\n",
    "\n",
    "while count<100:\n",
    "    print(count)\n",
    "    count = count+1\n",
    "\n",
    "\n",
    "\n"
   ]
  },
  {
   "cell_type": "code",
   "execution_count": null,
   "id": "a9886b33",
   "metadata": {},
   "outputs": [],
   "source": [
    "## Loop Control Statements\n",
    "##Break -  when meet the condition loop was exit premature\n",
    "\n",
    "word = \"Jeeva\"\n",
    "\n",
    "for i in range(100):\n",
    "    if i ==2:\n",
    "        break\n",
    "    print(word)\n",
    "\n"
   ]
  },
  {
   "cell_type": "code",
   "execution_count": null,
   "id": "a2a6a397",
   "metadata": {},
   "outputs": [],
   "source": [
    "## Continue -  Skip the current exection and continue to next step\n",
    "\n",
    "for i in range(10):\n",
    "    if i ==3:  \n",
    "        \n",
    "        print(\"Bow..!\")\n",
    "        continue\n",
    "        \n",
    "    print(i)"
   ]
  },
  {
   "cell_type": "code",
   "execution_count": null,
   "id": "bddef01a",
   "metadata": {},
   "outputs": [],
   "source": [
    "for i in range(10):\n",
    "    if i%2==0:\n",
    "        continue\n",
    "    print(i)\n",
    "\n",
    "\n",
    "    "
   ]
  },
  {
   "cell_type": "code",
   "execution_count": null,
   "id": "94a04f66",
   "metadata": {},
   "outputs": [],
   "source": [
    "##PASS - ids null opearation ; it's do nothing\n",
    "\n",
    "for i in range(10):\n",
    "    if i==3:\n",
    "        pass\n",
    "    print(i)"
   ]
  },
  {
   "cell_type": "code",
   "execution_count": 3,
   "id": "923ba697",
   "metadata": {},
   "outputs": [
    {
     "name": "stdout",
     "output_type": "stream",
     "text": [
      "i: 0 and j: 0\n",
      "i: 0 and j: 1\n",
      "i: 1 and j: 0\n",
      "i: 1 and j: 1\n",
      "i: 2 and j: 0\n",
      "i: 2 and j: 1\n"
     ]
    }
   ],
   "source": [
    "## Nested Looop ( Loop inside a Loop)\n",
    "for i in range(3):\n",
    "    for j in range(2):\n",
    "        print(f\"i: {i} and j: {j}\")"
   ]
  },
  {
   "cell_type": "code",
   "execution_count": 8,
   "id": "2776b3d4",
   "metadata": {},
   "outputs": [
    {
     "name": "stdout",
     "output_type": "stream",
     "text": [
      "0\n",
      "1\n",
      "2\n",
      "3\n",
      "4\n",
      "5\n",
      "The Final Answer is :  15\n"
     ]
    }
   ],
   "source": [
    "## Example Sum of Natural Numbers \n",
    "N = 5\n",
    "value = 0\n",
    "\n",
    "for i in range(N+1):\n",
    "    value = value+i\n",
    "    print(i)\n",
    "\n",
    "print(\"The Final Answer is : \" , value)"
   ]
  },
  {
   "cell_type": "code",
   "execution_count": 20,
   "id": "451e0480",
   "metadata": {},
   "outputs": [
    {
     "name": "stdout",
     "output_type": "stream",
     "text": [
      "15\n"
     ]
    }
   ],
   "source": [
    "## Same AS ; Bur need to ue while and for loop\n",
    "N = 5\n",
    "value = 0\n",
    "\n",
    "while N>value:\n",
    "    for i in range(N+1):\n",
    "         value = value + i\n",
    "      \n",
    "print(value)\n"
   ]
  },
  {
   "cell_type": "code",
   "execution_count": 22,
   "id": "cdd96969",
   "metadata": {},
   "outputs": [
    {
     "name": "stdout",
     "output_type": "stream",
     "text": [
      "15\n"
     ]
    }
   ],
   "source": [
    "## Other Methods\n",
    "N = 5\n",
    "value = 0\n",
    "count = 1\n",
    "\n",
    "while count<=N:\n",
    "    value = value+count\n",
    "    count = count+1\n",
    "\n",
    "\n",
    "print(value)\n",
    "\n"
   ]
  },
  {
   "cell_type": "code",
   "execution_count": 39,
   "id": "4a935157",
   "metadata": {},
   "outputs": [
    {
     "name": "stdout",
     "output_type": "stream",
     "text": [
      "2\n",
      "3\n",
      "4\n",
      "5\n",
      "6\n",
      "7\n",
      "8\n",
      "9\n",
      "10\n",
      "11\n",
      "12\n",
      "13\n",
      "14\n",
      "15\n",
      "16\n",
      "17\n",
      "18\n",
      "19\n",
      "20\n",
      "21\n",
      "22\n",
      "23\n",
      "24\n",
      "25\n",
      "26\n",
      "27\n",
      "28\n",
      "29\n",
      "30\n",
      "31\n",
      "32\n",
      "33\n",
      "34\n",
      "35\n",
      "36\n",
      "37\n",
      "38\n",
      "39\n",
      "40\n",
      "41\n",
      "42\n",
      "43\n",
      "44\n",
      "45\n",
      "46\n",
      "47\n",
      "48\n",
      "49\n",
      "50\n",
      "51\n",
      "52\n",
      "53\n",
      "54\n",
      "55\n",
      "56\n",
      "57\n",
      "58\n",
      "59\n",
      "60\n",
      "61\n",
      "62\n",
      "63\n",
      "64\n",
      "65\n",
      "66\n",
      "67\n",
      "68\n",
      "69\n",
      "70\n",
      "71\n",
      "72\n",
      "73\n",
      "74\n",
      "75\n",
      "76\n",
      "77\n",
      "78\n",
      "79\n",
      "80\n",
      "81\n",
      "82\n",
      "83\n",
      "84\n",
      "85\n",
      "86\n",
      "87\n",
      "88\n",
      "89\n",
      "90\n",
      "91\n",
      "92\n",
      "93\n",
      "94\n",
      "95\n",
      "96\n",
      "97\n",
      "98\n",
      "99\n",
      "[2, 3, 4, 5, 6, 7, 8, 9, 10, 11, 12, 13, 14, 15, 16, 17, 18, 19, 20, 21, 22, 23, 24, 25, 26, 27, 28, 29, 30, 31, 32, 33, 34, 35, 36, 37, 38, 39, 40, 41, 42, 43, 44, 45, 46, 47, 48, 49, 50, 51, 52, 53, 54, 55, 56, 57, 58, 59, 60, 61, 62, 63, 64, 65, 66, 67, 68, 69, 70, 71, 72, 73, 74, 75, 76, 77, 78, 79, 80, 81, 82, 83, 84, 85, 86, 87, 88, 89, 90, 91, 92, 93, 94, 95, 96, 97, 98, 99]\n"
     ]
    }
   ],
   "source": [
    "##Write Program for find prime numbers between 1 and 100\n",
    "\n",
    "# for i in range(len(str(100))):\n",
    "#     print(i)\n",
    "\n",
    "# for i in range(1,100):\n",
    "#     if (i%1 == 0) and (i%i==0):\n",
    "#         print(i)\n",
    "    \n",
    "N = 100\n",
    "n = 10\n",
    "prime_num  = []\n",
    "\n",
    "for i in range(1,N):\n",
    "    for j in range(2,100):\n",
    "        if i%j == 0 and i==j:\n",
    "            print(i)\n",
    "            prime_num.append(i)\n",
    "\n",
    "\n",
    "print(prime_num)"
   ]
  },
  {
   "cell_type": "code",
   "execution_count": 56,
   "id": "cbe58afb",
   "metadata": {},
   "outputs": [
    {
     "name": "stdout",
     "output_type": "stream",
     "text": [
      "2\n",
      "3\n",
      "5\n",
      "7\n",
      "11\n",
      "13\n",
      "17\n",
      "19\n",
      "23\n",
      "29\n",
      "31\n",
      "37\n",
      "41\n",
      "43\n",
      "47\n",
      "53\n",
      "59\n",
      "61\n",
      "67\n",
      "71\n",
      "73\n",
      "79\n",
      "83\n",
      "89\n",
      "97\n"
     ]
    }
   ],
   "source": [
    "for i in range(1,101):\n",
    "    if i>1:\n",
    "        for j in range(2,i):\n",
    "            if i%j == 0:\n",
    "                break\n",
    "        else:\n",
    "            print(i)\n"
   ]
  },
  {
   "cell_type": "code",
   "execution_count": null,
   "id": "721d0f51",
   "metadata": {},
   "outputs": [],
   "source": []
  }
 ],
 "metadata": {
  "kernelspec": {
   "display_name": "Python 3",
   "language": "python",
   "name": "python3"
  },
  "language_info": {
   "codemirror_mode": {
    "name": "ipython",
    "version": 3
   },
   "file_extension": ".py",
   "mimetype": "text/x-python",
   "name": "python",
   "nbconvert_exporter": "python",
   "pygments_lexer": "ipython3",
   "version": "3.12.0"
  }
 },
 "nbformat": 4,
 "nbformat_minor": 5
}
