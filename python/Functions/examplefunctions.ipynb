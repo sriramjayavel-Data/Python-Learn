{
 "cells": [
  {
   "cell_type": "code",
   "execution_count": 42,
   "id": "1d505215",
   "metadata": {},
   "outputs": [],
   "source": [
    "def temp_conversion():\n",
    "    user_input = int(input(''' 1.F to C /n\n",
    "                     2.c to F /n\n",
    "                     Enter Your Choice : ''' ))\n",
    "    \n",
    "    if user_input == 1:\n",
    "        Faranheat = float(input(\"Enter Your Faranheat Here: \"))\n",
    "        try:\n",
    "            c = round((Faranheat-32)*(5/9),2)\n",
    "            return f\"Temp is {c}c\"\n",
    "        except ValueError:\n",
    "            print(\"Enter Whole Number\")\n",
    "        \n",
    "\n",
    "    elif user_input == 2:\n",
    "        celcious = float(input(\"Enter Your Celcious Here: \"))\n",
    "        try:\n",
    "            f = round(((celcious*(9/5))+32),2)\n",
    "            return f\"Faraheat is {f}f\"\n",
    "        except ValueError:\n",
    "            print(\"Enter Whole Number\")\n",
    "        \n",
    "        \n",
    "    else:\n",
    "        print(f\"{user_input} is invalid\")\n",
    "\n",
    "\n",
    "         \n",
    "    \n",
    "\n",
    "   "
   ]
  },
  {
   "cell_type": "code",
   "execution_count": 43,
   "id": "abb04657",
   "metadata": {},
   "outputs": [
    {
     "data": {
      "text/plain": [
       "'Faraheat is 95.0f'"
      ]
     },
     "execution_count": 43,
     "metadata": {},
     "output_type": "execute_result"
    }
   ],
   "source": [
    "temp_conversion()"
   ]
  },
  {
   "cell_type": "code",
   "execution_count": null,
   "id": "536b174c",
   "metadata": {},
   "outputs": [],
   "source": [
    "def convert_temp(temp,unit):\n",
    "    try:\n",
    "        temp = float(temp)\n",
    "    except ValueError:\n",
    "        print(\"Please enter valid number\")\n",
    "    if unit.lower() == 'f': \n",
    "        try:\n",
    "            c = round((temp-32)*(5/9),2)\n",
    "            return f\"Temp is {c}c\"\n",
    "        except ValueError:\n",
    "            print(\"Enter Whole Number\")\n",
    "    \n",
    "    elif unit.lower() == 'c':\n",
    "        try:\n",
    "            f = round(((temp*(9/5))+32),2)\n",
    "            return f\"Faraheat is {f}f\"\n",
    "        except ValueError:\n",
    "            print(\"Enter Whole Number\")\n",
    "    \n",
    "    else:\n",
    "        print(\"invalied input\")"
   ]
  },
  {
   "cell_type": "code",
   "execution_count": 58,
   "id": "ad1be45c",
   "metadata": {},
   "outputs": [
    {
     "data": {
      "text/plain": [
       "'Temp is 43.33c'"
      ]
     },
     "execution_count": 58,
     "metadata": {},
     "output_type": "execute_result"
    }
   ],
   "source": [
    "convert_temp(110,'f')"
   ]
  },
  {
   "cell_type": "code",
   "execution_count": 64,
   "id": "62686174",
   "metadata": {},
   "outputs": [],
   "source": [
    "import re"
   ]
  },
  {
   "cell_type": "code",
   "execution_count": 80,
   "id": "5979e67f",
   "metadata": {},
   "outputs": [],
   "source": [
    "## Password Strength Checker\n",
    "\n",
    "def pass_checker(Pass):\n",
    "    pass_len = len(Pass)\n",
    "    # pass_upp_lower = [\"Upper\" if i.isupper() else i.islower() \"Lower\" for i in Pass if i.isalpha()]\n",
    "    pass_upper   =   [True if i.isupper() else False for i in Pass if i.isalpha()]\n",
    "    pass_lower   =   [True if i.islower() else False for i in Pass if i.isalpha()]\n",
    "    pass_numeric =   [True if i.isdigit() else False for i in Pass ]\n",
    "    pass_sp =   [True if re.search(r'[^A-Za-z0-9]', i) else False for i in Pass]\n",
    "\n",
    "\n",
    "    if pass_len<=8:\n",
    "        print(\"The Password Must Be above 8 characters\")\n",
    "        return\n",
    "    \n",
    "    # def check_true(*args):\n",
    "    #     if True in args:\n",
    "    #         return True\n",
    "    #     else:\n",
    "    #         return False\n",
    "    def check_true(*args):\n",
    "        return any(args)\n",
    "      # This checks if any value in args is True\n",
    "\n",
    "    a =  check_true(pass_upper)\n",
    "    b = check_true(pass_lower)\n",
    "    c = check_true(pass_numeric)\n",
    "    d = check_true(pass_sp)\n",
    "\n",
    "    print(a,b,c,d)\n",
    "\n",
    "    validate_check = [a,b,c,d]\n",
    "\n",
    "    count_of_True = validate_check.count(True)\n",
    "    print(\"count_of_True : \",count_of_True)\n",
    "\n",
    "    if count_of_True >=3:\n",
    "        print(Pass, \"The Password Strength is STRONG \")\n",
    "    elif count_of_True == 2:\n",
    "        print(Pass, \"The Password is Strength MEDIUM \")\n",
    "    elif count_of_True < 2:\n",
    "        print(Pass, \"The Password is Strength Low \")\n",
    "        \n",
    "    print(pass_len)\n",
    "    print(pass_upper)\n",
    "    print(pass_lower)\n",
    "    print(pass_numeric)\n",
    "    print(pass_sp)\n",
    "\n",
    "    return Pass"
   ]
  },
  {
   "cell_type": "code",
   "execution_count": 81,
   "id": "421c9a40",
   "metadata": {},
   "outputs": [
    {
     "name": "stdout",
     "output_type": "stream",
     "text": [
      "True True True True\n",
      "count_of_True :  4\n",
      "Sriram@123 The Password Strength is STRONG \n",
      "10\n",
      "[True, False, False, False, False, False]\n",
      "[False, True, True, True, True, True]\n",
      "[False, False, False, False, False, False, False, True, True, True]\n",
      "[False, False, False, False, False, False, True, False, False, False]\n"
     ]
    },
    {
     "data": {
      "text/plain": [
       "'Sriram@123'"
      ]
     },
     "execution_count": 81,
     "metadata": {},
     "output_type": "execute_result"
    }
   ],
   "source": [
    "pass_checker(\"Sriram@123\")"
   ]
  },
  {
   "cell_type": "code",
   "execution_count": 93,
   "id": "26aa085c",
   "metadata": {},
   "outputs": [],
   "source": [
    "def is_strong_pass(Pass):\n",
    "    if len(Pass)<8:\n",
    "        return False\n",
    "    if not any(i.isdigit() for i in Pass):\n",
    "        return False\n",
    "    return True\n",
    "\n",
    "\n"
   ]
  },
  {
   "cell_type": "code",
   "execution_count": 96,
   "id": "98544f24",
   "metadata": {},
   "outputs": [
    {
     "data": {
      "text/plain": [
       "False"
      ]
     },
     "execution_count": 96,
     "metadata": {},
     "output_type": "execute_result"
    }
   ],
   "source": [
    "is_strong_pass(\"Sriram@\")"
   ]
  },
  {
   "cell_type": "code",
   "execution_count": 98,
   "id": "c10fe609",
   "metadata": {},
   "outputs": [],
   "source": [
    "## Calculate Total cost of Items in shoping cart\n",
    "\n",
    "def total_cost(*args):\n",
    "    total = 0\n",
    "    for i in args:\n",
    "        total = total+i\n",
    "    return total"
   ]
  },
  {
   "cell_type": "code",
   "execution_count": 100,
   "id": "9bd4979f",
   "metadata": {},
   "outputs": [
    {
     "data": {
      "text/plain": [
       "1004"
      ]
     },
     "execution_count": 100,
     "metadata": {},
     "output_type": "execute_result"
    }
   ],
   "source": [
    "total_cost(1,2,1,1000)"
   ]
  },
  {
   "cell_type": "code",
   "execution_count": 136,
   "id": "b9dd29e4",
   "metadata": {},
   "outputs": [],
   "source": [
    "def total_amount(cart):\n",
    "    total_amount = 0 \n",
    "    for i in cart:\n",
    "        f_price =  i[\"Quantity\"]*i[\"Price\"]\n",
    "        total_amount =  total_amount + f_price\n",
    "    return f\"The Total Amount is {total_amount}\"\n",
    "        \n",
    "    "
   ]
  },
  {
   "cell_type": "code",
   "execution_count": 106,
   "id": "b6419328",
   "metadata": {},
   "outputs": [],
   "source": [
    "cart = [\n",
    "    {\"product\":\"Apple\", \"Quantity\":2,\"Price\":10},\n",
    "    {\"product\":\"Orange\", \"Quantity\":10,\"Price\":3.2},\n",
    "    {\"product\":\"Gouva\", \"Quantity\":23,\"Price\":4.9},\n",
    "    {\"product\":\"Mango\", \"Quantity\":1,\"Price\":9.0},\n",
    "    {\"product\":\"Pinapple\", \"Quantity\":7,\"Price\":2.3},\n",
    "    {\"product\":\"Pappaya\", \"Quantity\":6,\"Price\":2.3},\n",
    "    {\"product\":\"Cocnut\", \"Quantity\":2,\"Price\":4.2},\n",
    "    {\"product\":\"Coriyandar\", \"Quantity\":8,\"Price\":1.1},\n",
    "    {\"product\":\"Curry Leaves\", \"Quantity\":2,\"Price\":1.3},]"
   ]
  },
  {
   "cell_type": "code",
   "execution_count": 137,
   "id": "833fe478",
   "metadata": {},
   "outputs": [
    {
     "data": {
      "text/plain": [
       "'The Total Amount is 223.4'"
      ]
     },
     "execution_count": 137,
     "metadata": {},
     "output_type": "execute_result"
    }
   ],
   "source": [
    "total_amount(cart)"
   ]
  },
  {
   "cell_type": "code",
   "execution_count": 170,
   "id": "29609a1d",
   "metadata": {},
   "outputs": [],
   "source": [
    "## Check If String is Palindrome\n",
    "\n",
    "def palindrome(name):\n",
    "    name = name.lower().replace(\" \",\"\")\n",
    "    rev_name = []\n",
    "    for i in name[::-1]:\n",
    "        rev_name.append(i)\n",
    "    reverse_name = ''.join(rev_name)\n",
    "    if name == reverse_name:\n",
    "        return (f\"The {name} is Palindrome\")\n",
    "    else:\n",
    "        return(f\"The {name} is not Palindrome \")\n",
    "    \n",
    "\n"
   ]
  },
  {
   "cell_type": "code",
   "execution_count": 171,
   "id": "50ca369e",
   "metadata": {},
   "outputs": [
    {
     "name": "stdout",
     "output_type": "stream",
     "text": [
      "The sriramjayavel is not Palindrome \n",
      "The madam is Palindrome\n"
     ]
    }
   ],
   "source": [
    "print(palindrome(\"Sriram Jayavel\"))\n",
    "print(palindrome(\"madam\"))\n"
   ]
  },
  {
   "cell_type": "code",
   "execution_count": 174,
   "id": "6975e23b",
   "metadata": {},
   "outputs": [],
   "source": [
    "## factorial with recrussion function\n",
    "\n",
    "def factoriol(n):\n",
    "    if n==0:\n",
    "        return 1\n",
    "    else:\n",
    "        return n*factoriol(n-1)"
   ]
  },
  {
   "cell_type": "code",
   "execution_count": 175,
   "id": "f931445d",
   "metadata": {},
   "outputs": [
    {
     "data": {
      "text/plain": [
       "120"
      ]
     },
     "execution_count": 175,
     "metadata": {},
     "output_type": "execute_result"
    }
   ],
   "source": [
    "factoriol(5)"
   ]
  },
  {
   "cell_type": "code",
   "execution_count": 221,
   "id": "0816f3a4",
   "metadata": {},
   "outputs": [],
   "source": [
    "def count_frequency(filepath):\n",
    "    final_lst = {}\n",
    "    with open(filepath, 'r') as file:\n",
    "        for i in file:\n",
    "            words = i.lower().split()\n",
    "            for word in words:\n",
    "                final_lst[word] = final_lst.get(word,0)+1\n",
    "                # if word in final_lst:\n",
    "                #     final_lst[word]+=1\n",
    "                # else:\n",
    "                #     final_lst[word] = 1\n",
    "    final_lst = [{word: count} for word, count in final_lst.items()]\n",
    "    return final_lst\n",
    "            \n",
    "              \n",
    "\n",
    "            \n",
    "\n",
    "\n",
    "  "
   ]
  },
  {
   "cell_type": "code",
   "execution_count": 187,
   "id": "05135f6f",
   "metadata": {},
   "outputs": [],
   "source": [
    "filepath = 'sample.txt'"
   ]
  },
  {
   "cell_type": "code",
   "execution_count": 222,
   "id": "00556ccf",
   "metadata": {},
   "outputs": [
    {
     "data": {
      "text/plain": [
       "[{'how': 1},\n",
       " {'are': 1},\n",
       " {'you': 1},\n",
       " {'i': 2},\n",
       " {'am': 2},\n",
       " {'sriram': 1},\n",
       " {'jayavel': 1},\n",
       " {'from': 1},\n",
       " {'chennai': 1},\n",
       " {'a': 1},\n",
       " {'data': 1},\n",
       " {'analyst': 1}]"
      ]
     },
     "execution_count": 222,
     "metadata": {},
     "output_type": "execute_result"
    }
   ],
   "source": [
    "count_frequency(filepath)\n"
   ]
  },
  {
   "cell_type": "code",
   "execution_count": 255,
   "id": "d39a86f6",
   "metadata": {},
   "outputs": [],
   "source": [
    "import re\n",
    "\n",
    "def email_validation(mail):\n",
    "    pattern = r'^[a-zA-Z0-9+-_]+@[a-zA-Z0-9+-_]+\\.[a-zA-Z0-9+-_]+$'\n",
    "    return re.match(pattern,mail) is not None\n"
   ]
  },
  {
   "cell_type": "code",
   "execution_count": 256,
   "id": "df68e4d6",
   "metadata": {},
   "outputs": [
    {
     "name": "stdout",
     "output_type": "stream",
     "text": [
      "False\n"
     ]
    }
   ],
   "source": [
    "print(email_validation(\"srimaihmao.com\"))"
   ]
  },
  {
   "cell_type": "code",
   "execution_count": null,
   "id": "c236756f",
   "metadata": {},
   "outputs": [],
   "source": []
  }
 ],
 "metadata": {
  "kernelspec": {
   "display_name": "Python 3",
   "language": "python",
   "name": "python3"
  },
  "language_info": {
   "codemirror_mode": {
    "name": "ipython",
    "version": 3
   },
   "file_extension": ".py",
   "mimetype": "text/x-python",
   "name": "python",
   "nbconvert_exporter": "python",
   "pygments_lexer": "ipython3",
   "version": "3.12.0"
  }
 },
 "nbformat": 4,
 "nbformat_minor": 5
}
