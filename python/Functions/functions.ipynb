{
 "cells": [
  {
   "cell_type": "code",
   "execution_count": 5,
   "id": "448f9424",
   "metadata": {},
   "outputs": [
    {
     "data": {
      "text/plain": [
       "50"
      ]
     },
     "execution_count": 5,
     "metadata": {},
     "output_type": "execute_result"
    }
   ],
   "source": [
    "def exc(a,b):\n",
    "    two_sum = a+b\n",
    "    return two_sum\n",
    "\n",
    "exc(30,20)\n",
    "   \n",
    "\n"
   ]
  },
  {
   "cell_type": "code",
   "execution_count": null,
   "id": "66f448a2",
   "metadata": {},
   "outputs": [],
   "source": [
    "## Functio  is block of code -  improving readibility :\n",
    "\n",
    "def function_name(parameters):\n",
    "    \"\"\"Docstring\"\"\"\n",
    "    #Function Bodgy\n",
    "    return expression"
   ]
  },
  {
   "cell_type": "code",
   "execution_count": 7,
   "id": "ecd01cbf",
   "metadata": {},
   "outputs": [
    {
     "name": "stdout",
     "output_type": "stream",
     "text": [
      "The number is even\n"
     ]
    }
   ],
   "source": [
    "num  =24 \n",
    "if num%2 == 0:\n",
    "    print(\"The number is even\")\n",
    "else:\n",
    "    print(\"The number is odd\")"
   ]
  },
  {
   "cell_type": "code",
   "execution_count": 13,
   "id": "1a22bd4b",
   "metadata": {},
   "outputs": [
    {
     "name": "stdout",
     "output_type": "stream",
     "text": [
      "121 The Numder is odd\n"
     ]
    }
   ],
   "source": [
    "def even_odd(num):\n",
    "    if num%2 ==0:\n",
    "        print(num,\"The Number is even\")\n",
    "    else:\n",
    "        print(num,\"The Numder is odd\")\n",
    "    \n",
    "\n",
    "\n",
    "even_odd(121)\n"
   ]
  },
  {
   "cell_type": "code",
   "execution_count": 15,
   "id": "ffdab7ec",
   "metadata": {},
   "outputs": [
    {
     "name": "stdout",
     "output_type": "stream",
     "text": [
      "1234233 The Numder is odd\n"
     ]
    }
   ],
   "source": [
    "even_odd(1234233)"
   ]
  },
  {
   "cell_type": "code",
   "execution_count": 17,
   "id": "60d044b6",
   "metadata": {},
   "outputs": [
    {
     "data": {
      "text/plain": [
       "3"
      ]
     },
     "execution_count": 17,
     "metadata": {},
     "output_type": "execute_result"
    }
   ],
   "source": [
    "## Function With Multiple Parameteres\n",
    "def add(a,b):\n",
    "    return a+b\n",
    "\n",
    "\n",
    "add(1,2)"
   ]
  },
  {
   "cell_type": "code",
   "execution_count": 43,
   "id": "2d28e380",
   "metadata": {},
   "outputs": [],
   "source": [
    "def default():\n",
    "    return \"SRK Guest\""
   ]
  },
  {
   "cell_type": "code",
   "execution_count": null,
   "id": "4abd32bf",
   "metadata": {},
   "outputs": [
    {
     "data": {
      "text/plain": [
       "'Hello SJ Guest'"
      ]
     },
     "execution_count": 40,
     "metadata": {},
     "output_type": "execute_result"
    }
   ],
   "source": [
    "## Default Parameters:\n",
    "def greet(name=None):\n",
    "    if name is None:\n",
    "        name=default()\n",
    "    return f\"Hello {name}\"\n",
    "\n",
    "\n"
   ]
  },
  {
   "cell_type": "code",
   "execution_count": 45,
   "id": "b5d55d25",
   "metadata": {},
   "outputs": [
    {
     "data": {
      "text/plain": [
       "'Hello SRI'"
      ]
     },
     "execution_count": 45,
     "metadata": {},
     "output_type": "execute_result"
    }
   ],
   "source": [
    "greet(\"SRI\")"
   ]
  },
  {
   "cell_type": "code",
   "execution_count": null,
   "metadata": {},
   "outputs": [
    {
     "name": "stdout",
     "output_type": "stream",
     "text": [
      "1\n",
      "Sri\n",
      "Ram\n",
      "3.14\n",
      "4\n",
      "5\n",
      "5\n"
     ]
    }
   ],
   "source": [
    "## Variable length Argument\n",
    "## Positional Argements\n",
    "\n",
    "def print_num(numbers):\n",
    "    for i in numbers:\n",
    "        print(i)\n",
    "\n",
    "\n",
    "# print_num([1,2,3,4,5,6,7,8,9])\n",
    "\n",
    "\n",
    "def prit_num(*args):\n",
    "    for i in args:\n",
    "        print(i)\n",
    "    \n",
    "\n",
    "\n",
    "prit_num(1,\"Sri\",\"Ram\",3.14, 4,5,5)\n"
   ]
  },
  {
   "cell_type": "code",
   "execution_count": 65,
   "id": "2f1cc1f0",
   "metadata": {},
   "outputs": [],
   "source": [
    "## keywords Arguments\n",
    "# All the parameters in key:value form ( Like Dict{})\n",
    "\n",
    "def print_details(**kwargs):\n",
    "    for key,value in kwargs.items():\n",
    "        print(f\"{key}:{value}\")"
   ]
  },
  {
   "cell_type": "code",
   "execution_count": 66,
   "id": "015db849",
   "metadata": {},
   "outputs": [
    {
     "name": "stdout",
     "output_type": "stream",
     "text": [
      "name:sriram\n",
      "age:10\n",
      "country:India\n"
     ]
    }
   ],
   "source": [
    "print_details(name=\"sriram\",age = 10,country = \"India\")"
   ]
  },
  {
   "cell_type": "code",
   "execution_count": null,
   "id": "a624f3c4",
   "metadata": {},
   "outputs": [
    {
     "ename": "SyntaxError",
     "evalue": "arguments cannot follow var-keyword argument (3825788949.py, line 1)",
     "output_type": "error",
     "traceback": [
      "  \u001b[36mCell\u001b[39m\u001b[36m \u001b[39m\u001b[32mIn[69]\u001b[39m\u001b[32m, line 1\u001b[39m\n\u001b[31m    \u001b[39m\u001b[31mdef print_num(**kwargs,*args):\u001b[39m\n                           ^\n\u001b[31mSyntaxError\u001b[39m\u001b[31m:\u001b[39m arguments cannot follow var-keyword argument\n"
     ]
    }
   ],
   "source": [
    "def print_num(*args,**kwargs):\n",
    "    for i in args:\n",
    "        print(f\"Positional args:{i}\")\n",
    "    for i,j in kwargs.items():\n",
    "        print(f\"Keyword args=> {i}:{j}\")\n",
    "        "
   ]
  },
  {
   "cell_type": "code",
   "execution_count": 70,
   "id": "d7f41814",
   "metadata": {},
   "outputs": [
    {
     "name": "stdout",
     "output_type": "stream",
     "text": [
      "Positional args:1\n",
      "Positional args:2\n",
      "Positional args:3\n",
      "Positional args:4\n",
      "Positional args:5\n",
      "Positional args:6\n",
      "Positional args:sri=am\n",
      "Keyword args=> name:sriram\n",
      "Keyword args=> age:10\n",
      "Keyword args=> country:India\n"
     ]
    }
   ],
   "source": [
    "print_num(1,2,3,4,5,6,\"sri=am\",name=\"sriram\",age = 10,country = \"India\")"
   ]
  },
  {
   "cell_type": "code",
   "execution_count": 71,
   "id": "3fd44317",
   "metadata": {},
   "outputs": [],
   "source": [
    "## Return Statement\n",
    "def multi(a,b):\n",
    "    return a+b, a*b, a-b ,a"
   ]
  },
  {
   "cell_type": "code",
   "execution_count": 72,
   "id": "e0f96154",
   "metadata": {},
   "outputs": [
    {
     "data": {
      "text/plain": [
       "(6, 8, -2, 2)"
      ]
     },
     "execution_count": 72,
     "metadata": {},
     "output_type": "execute_result"
    }
   ],
   "source": [
    "multi(2,4)"
   ]
  },
  {
   "cell_type": "code",
   "execution_count": null,
   "id": "da14f8e3",
   "metadata": {},
   "outputs": [],
   "source": []
  }
 ],
 "metadata": {
  "kernelspec": {
   "display_name": "Python 3",
   "language": "python",
   "name": "python3"
  },
  "language_info": {
   "codemirror_mode": {
    "name": "ipython",
    "version": 3
   },
   "file_extension": ".py",
   "mimetype": "text/x-python",
   "name": "python",
   "nbconvert_exporter": "python",
   "pygments_lexer": "ipython3",
   "version": "3.12.0"
  }
 },
 "nbformat": 4,
 "nbformat_minor": 5
}
