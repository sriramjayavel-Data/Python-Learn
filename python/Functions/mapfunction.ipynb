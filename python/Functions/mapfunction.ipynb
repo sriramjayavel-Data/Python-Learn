{
 "cells": [
  {
   "cell_type": "code",
   "execution_count": null,
   "id": "88e74154",
   "metadata": {},
   "outputs": [],
   "source": [
    "##\n",
    "# map(func_name,*iterable) - its a lazy loading need to change into list"
   ]
  },
  {
   "cell_type": "code",
   "execution_count": null,
   "id": "944d2b6f",
   "metadata": {},
   "outputs": [
    {
     "data": {
      "text/plain": [
       "[1, 4]"
      ]
     },
     "execution_count": 3,
     "metadata": {},
     "output_type": "execute_result"
    }
   ],
   "source": [
    "def square(x):\n",
    "    return x**2\n",
    "\n",
    "list(map(square,[1,2]))"
   ]
  },
  {
   "cell_type": "code",
   "execution_count": 4,
   "id": "239299b0",
   "metadata": {},
   "outputs": [
    {
     "data": {
      "text/plain": [
       "[1, 4, 9, 16]"
      ]
     },
     "execution_count": 4,
     "metadata": {},
     "output_type": "execute_result"
    }
   ],
   "source": [
    "list(map(lambda x:x*x,[1,2,3,4]))"
   ]
  },
  {
   "cell_type": "code",
   "execution_count": 6,
   "id": "a366453d",
   "metadata": {},
   "outputs": [
    {
     "name": "stdout",
     "output_type": "stream",
     "text": [
      "[5, 7, 9]\n"
     ]
    }
   ],
   "source": [
    "## Map Multiple Iterable\n",
    "numbers1 = [1,2,3]\n",
    "numbers2 = [4,5,6]\n",
    "\n",
    "added_lst = list(map(lambda x,y:x+y,numbers1,numbers2))\n",
    "print(added_lst)"
   ]
  },
  {
   "cell_type": "code",
   "execution_count": 7,
   "id": "86db58c7",
   "metadata": {},
   "outputs": [
    {
     "name": "stdout",
     "output_type": "stream",
     "text": [
      "[1, 2, 3]\n"
     ]
    }
   ],
   "source": [
    "#List strings into Int\n",
    "\n",
    "convert_lst = list(map(int,[\"1\",\"2\",\"3\"]))\n",
    "print(convert_lst)"
   ]
  },
  {
   "cell_type": "code",
   "execution_count": 13,
   "id": "33f1d350",
   "metadata": {},
   "outputs": [
    {
     "name": "stdout",
     "output_type": "stream",
     "text": [
      "[2, 2, 1, 1, 1, 2, 2]\n"
     ]
    }
   ],
   "source": [
    "numbers = [1,2,3,4,51,2,1]\n",
    "count_dict = list(map(lambda x: numbers.count(x),numbers))\n",
    "print(count_dict)"
   ]
  },
  {
   "cell_type": "code",
   "execution_count": 14,
   "id": "4a5a3aaa",
   "metadata": {},
   "outputs": [
    {
     "name": "stdout",
     "output_type": "stream",
     "text": [
      "[2, 2, 1, 1, 1, 2, 2]\n"
     ]
    }
   ],
   "source": [
    "numbers = [1, 2, 3, 4, 51, 2, 1]\n",
    "count_dict = list(map(lambda x: numbers.count(x), numbers))  # This is not efficient\n",
    "print(count_dict)\n"
   ]
  },
  {
   "cell_type": "code",
   "execution_count": 15,
   "id": "f185a5b1",
   "metadata": {},
   "outputs": [
    {
     "name": "stdout",
     "output_type": "stream",
     "text": [
      "{1: 2, 2: 2, 3: 1, 4: 1, 51: 1}\n"
     ]
    }
   ],
   "source": [
    "from collections import Counter\n",
    "\n",
    "numbers = [1, 2, 3, 4, 51, 2, 1]\n",
    "count_dict = dict(Counter(numbers))  # Convert the Counter object to a dictionary\n",
    "print(count_dict)\n"
   ]
  },
  {
   "cell_type": "code",
   "execution_count": 22,
   "id": "f742146c",
   "metadata": {},
   "outputs": [
    {
     "data": {
      "text/plain": [
       "['Sriram', 'other']"
      ]
     },
     "execution_count": 22,
     "metadata": {},
     "output_type": "execute_result"
    }
   ],
   "source": [
    "def get_name(people):\n",
    "    return [person['name'] for person in people]\n",
    "\n",
    "people = [{'name':'Sriram' , 'age':12},\n",
    "           {'name':'other','age':0}]\n",
    "\n",
    "get_name(people)"
   ]
  },
  {
   "cell_type": "code",
   "execution_count": 23,
   "id": "7fd9c67c",
   "metadata": {},
   "outputs": [
    {
     "name": "stdout",
     "output_type": "stream",
     "text": [
      "['Sriram', 'other']\n"
     ]
    }
   ],
   "source": [
    "def get_name(people):\n",
    "    return people['name']\n",
    "\n",
    "people = [{'name':'Sriram' , 'age':12},\n",
    "           {'name':'other','age':0}]\n",
    "\n",
    "print(list(map(get_name,people)))"
   ]
  },
  {
   "cell_type": "code",
   "execution_count": null,
   "id": "030dbaa0",
   "metadata": {},
   "outputs": [],
   "source": []
  },
  {
   "cell_type": "code",
   "execution_count": null,
   "id": "d3b4e46d",
   "metadata": {},
   "outputs": [],
   "source": []
  },
  {
   "cell_type": "code",
   "execution_count": null,
   "metadata": {},
   "outputs": [],
   "source": []
  },
  {
   "cell_type": "code",
   "execution_count": null,
   "id": "38c921be",
   "metadata": {},
   "outputs": [],
   "source": []
  },
  {
   "cell_type": "code",
   "execution_count": null,
   "metadata": {},
   "outputs": [],
   "source": []
  },
  {
   "cell_type": "code",
   "execution_count": null,
   "id": "0c62f8ee",
   "metadata": {},
   "outputs": [],
   "source": []
  },
  {
   "cell_type": "code",
   "execution_count": null,
   "id": "5d679576",
   "metadata": {},
   "outputs": [],
   "source": []
  }
 ],
 "metadata": {
  "kernelspec": {
   "display_name": "Python 3",
   "language": "python",
   "name": "python3"
  },
  "language_info": {
   "codemirror_mode": {
    "name": "ipython",
    "version": 3
   },
   "file_extension": ".py",
   "mimetype": "text/x-python",
   "name": "python",
   "nbconvert_exporter": "python",
   "pygments_lexer": "ipython3",
   "version": "3.12.0"
  }
 },
 "nbformat": 4,
 "nbformat_minor": 5
}
