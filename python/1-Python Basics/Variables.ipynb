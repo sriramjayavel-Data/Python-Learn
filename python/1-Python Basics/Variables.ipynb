{
 "cells": [
  {
   "cell_type": "code",
   "execution_count": 3,
   "id": "d561bd14",
   "metadata": {},
   "outputs": [
    {
     "name": "stdout",
     "output_type": "stream",
     "text": [
      "age : 40\n",
      "name : Sriram\n",
      "height : 5.2\n",
      "IS_Employer : True\n"
     ]
    }
   ],
   "source": [
    "##Delaring and assigning variables\n",
    "\n",
    "age = 40 \n",
    "name = \"Sriram\"\n",
    "height = 5.2\n",
    "is_employer =  True\n",
    "\n",
    "print(\"age :\",age)\n",
    "print(\"name :\",name)\n",
    "print(\"height :\",height)\n",
    "print(\"IS_Employer :\",is_employer)\n"
   ]
  },
  {
   "cell_type": "code",
   "execution_count": null,
   "id": "e4e86e13",
   "metadata": {},
   "outputs": [],
   "source": [
    "##Naming Convention\n",
    "\n",
    "## Varible Names should be descriptive\n",
    "## Start with letter or \"_\"\n",
    "## variable names are case sensitive"
   ]
  },
  {
   "cell_type": "code",
   "execution_count": null,
   "id": "fea4c108",
   "metadata": {},
   "outputs": [
    {
     "name": "stdout",
     "output_type": "stream",
     "text": [
      "<class 'int'>\n",
      "<class 'str'>\n",
      "<class 'float'>\n",
      "<class 'str'>\n"
     ]
    }
   ],
   "source": [
    "##Type Checking And Conversion\n",
    "age =  25\n",
    "print(type(age))\n",
    "\n",
    "\n",
    "age_str = str(age)\n",
    "print(type(age_str))\n",
    "\n",
    "\n",
    "float_age = float(age)\n",
    "print(type(float_age))\n",
    "\n",
    "name =  \"Sriram\"\n",
    "print(type(name))\n",
    "\n",
    "int_name =  \"Sriram\"\n",
    "print()"
   ]
  }
 ],
 "metadata": {
  "kernelspec": {
   "display_name": "Python 3",
   "language": "python",
   "name": "python3"
  },
  "language_info": {
   "codemirror_mode": {
    "name": "ipython",
    "version": 3
   },
   "file_extension": ".py",
   "mimetype": "text/x-python",
   "name": "python",
   "nbconvert_exporter": "python",
   "pygments_lexer": "ipython3",
   "version": "3.12.0"
  }
 },
 "nbformat": 4,
 "nbformat_minor": 5
}
