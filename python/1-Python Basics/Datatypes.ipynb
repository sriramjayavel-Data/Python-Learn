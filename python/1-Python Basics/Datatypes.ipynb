{
 "cells": [
  {
   "cell_type": "code",
   "execution_count": null,
   "id": "911cb580",
   "metadata": {},
   "outputs": [],
   "source": [
    "# Basic Data Types\n",
    "Int , Float , Strings , Boolean\n",
    "\n",
    "# Advanced Data Types\n",
    "List , Tuple , Set , Dictionary"
   ]
  },
  {
   "cell_type": "code",
   "execution_count": 5,
   "id": "d10fba82",
   "metadata": {},
   "outputs": [
    {
     "name": "stdout",
     "output_type": "stream",
     "text": [
      "False True\n"
     ]
    }
   ],
   "source": [
    "a=10 ;b=100;c=10\n",
    "print(a==b,c==a)"
   ]
  },
  {
   "cell_type": "code",
   "execution_count": 1,
   "id": "43f3d3bf",
   "metadata": {},
   "outputs": [
    {
     "data": {
      "text/plain": [
       "False"
      ]
     },
     "execution_count": 1,
     "metadata": {},
     "output_type": "execute_result"
    }
   ],
   "source": [
    "bool()"
   ]
  },
  {
   "cell_type": "code",
   "execution_count": 3,
   "id": "f594001f",
   "metadata": {},
   "outputs": [
    {
     "name": "stdout",
     "output_type": "stream",
     "text": [
      "True\n",
      "False\n"
     ]
    }
   ],
   "source": [
    "is_status = True\n",
    "print(is_status)\n",
    "\n",
    "\n",
    "is_status = bool()\n",
    "print(is_status)"
   ]
  },
  {
   "cell_type": "code",
   "execution_count": 11,
   "id": "2650d083",
   "metadata": {},
   "outputs": [
    {
     "name": "stdout",
     "output_type": "stream",
     "text": [
      "helloworld5False\n"
     ]
    }
   ],
   "source": [
    "## Common Errors\n",
    "result = \"hello\"+\"world\"+str(5)+str(bool())\n",
    "print(result)"
   ]
  },
  {
   "cell_type": "code",
   "execution_count": null,
   "id": "8528aa91",
   "metadata": {},
   "outputs": [],
   "source": []
  }
 ],
 "metadata": {
  "kernelspec": {
   "display_name": "Python 3",
   "language": "python",
   "name": "python3"
  },
  "language_info": {
   "codemirror_mode": {
    "name": "ipython",
    "version": 3
   },
   "file_extension": ".py",
   "mimetype": "text/x-python",
   "name": "python",
   "nbconvert_exporter": "python",
   "pygments_lexer": "ipython3",
   "version": "3.12.0"
  }
 },
 "nbformat": 4,
 "nbformat_minor": 5
}
