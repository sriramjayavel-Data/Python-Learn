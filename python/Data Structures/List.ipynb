{
 "cells": [
  {
   "cell_type": "code",
   "execution_count": null,
   "id": "bcfc13d1",
   "metadata": {},
   "outputs": [],
   "source": [
    "num = [1,2,3]\n",
    "for i in num:\n",
    "    print(i)"
   ]
  },
  {
   "cell_type": "code",
   "execution_count": null,
   "id": "92cd46f9",
   "metadata": {
    "vscode": {
     "languageId": "markdown"
    }
   },
   "outputs": [],
   "source": [
    "##List are Ordered and Mutable collection of items\n",
    "## they can contain differenent data types\n",
    "\n",
    "lst = [1,2,\"Sriram\"]\n",
    "print(type(lst))\n"
   ]
  },
  {
   "cell_type": "code",
   "execution_count": null,
   "id": "2fe523df",
   "metadata": {},
   "outputs": [],
   "source": [
    "fruits = [\"apple\", \"mango\" , \"kiwi\",\"tomoto\",\"orange\"]\n",
    "\n",
    "print(fruits[0:])\n",
    "\n",
    "print(fruits[-1:])\n",
    "\n",
    "\n",
    "fruits[1] =\"banana\"\n",
    "print(fruits)\n",
    "\n",
    "\n",
    "print(fruits.index(\"banana\"))\n"
   ]
  },
  {
   "cell_type": "code",
   "execution_count": null,
   "id": "71f96e94",
   "metadata": {},
   "outputs": [],
   "source": [
    "##List Methods\n",
    "\n",
    "print(fruits.append(\"coconnut\"))\n",
    "\n",
    "print(fruits)"
   ]
  },
  {
   "cell_type": "code",
   "execution_count": null,
   "id": "a2380216",
   "metadata": {},
   "outputs": [],
   "source": [
    "fruits.insert(1,\"laptop\")\n",
    "\n",
    "print(fruits)"
   ]
  },
  {
   "cell_type": "code",
   "execution_count": null,
   "id": "c1fae1a9",
   "metadata": {},
   "outputs": [],
   "source": [
    "fruits.remove(fruits[5]) ## Removiinf the first occurence\n",
    "print(fruits)"
   ]
  },
  {
   "cell_type": "code",
   "execution_count": null,
   "id": "a48fd4b3",
   "metadata": {},
   "outputs": [],
   "source": [
    "fruits.pop()\n",
    "print(fruits)\n",
    "\n",
    "\n"
   ]
  },
  {
   "cell_type": "code",
   "execution_count": null,
   "id": "804cf437",
   "metadata": {},
   "outputs": [],
   "source": [
    "fruits.append(fruits[0])"
   ]
  },
  {
   "cell_type": "code",
   "execution_count": null,
   "id": "f53009b9",
   "metadata": {},
   "outputs": [],
   "source": [
    "print(fruits.count(\"apple\"))\n",
    "print(fruits.index(\"apple\"))"
   ]
  },
  {
   "cell_type": "code",
   "execution_count": null,
   "id": "2a4133ef",
   "metadata": {},
   "outputs": [],
   "source": [
    "print(fruits)"
   ]
  },
  {
   "cell_type": "code",
   "execution_count": null,
   "id": "7d7d3211",
   "metadata": {},
   "outputs": [],
   "source": [
    "fruits.sort()##Aseding order\n",
    "\n",
    "print(fruits)"
   ]
  },
  {
   "cell_type": "code",
   "execution_count": null,
   "id": "e38663a0",
   "metadata": {},
   "outputs": [],
   "source": [
    "fruits.reverse()\n",
    "print(fruits)"
   ]
  },
  {
   "cell_type": "code",
   "execution_count": null,
   "id": "47185179",
   "metadata": {},
   "outputs": [],
   "source": [
    "numbers  = [1,2,3,4,5,6,7,8,9,0]\n",
    "\n",
    "# for i in numbers:\n",
    "#     print(i)\n",
    "\n",
    "print(numbers[2:5])\n",
    "print(numbers[:4])\n",
    "print(numbers[5:])\n",
    "print( numbers[::3]) ## 3 means step size\n",
    "print(numbers[::-1])\n",
    "print(numbers[::-2])"
   ]
  },
  {
   "cell_type": "code",
   "execution_count": null,
   "id": "c2a711e9",
   "metadata": {},
   "outputs": [],
   "source": [
    "##Iteratinf Over List\n",
    "\n",
    "for i in numbers:\n",
    "    print(i)"
   ]
  },
  {
   "cell_type": "code",
   "execution_count": null,
   "id": "d6c684e5",
   "metadata": {},
   "outputs": [],
   "source": [
    "##Iterating with index ((enumerate))\n",
    " \n",
    "for index,i in enumerate(numbers):\n",
    "    print(index,i)"
   ]
  },
  {
   "cell_type": "code",
   "execution_count": null,
   "id": "ed80c0eb",
   "metadata": {},
   "outputs": [],
   "source": [
    "##List Comprehensions\n",
    "\n",
    "lst = [1,23,3]\n",
    "\n",
    "for i in lst:\n",
    "    print(i*2)\n",
    "\n",
    "\n",
    "print([i*2 for i in lst])"
   ]
  },
  {
   "cell_type": "code",
   "execution_count": null,
   "id": "e9c653c6",
   "metadata": {},
   "outputs": [],
   "source": [
    "fruits.clear() ## Remove all the items \n",
    "\n",
    "print(fruits)"
   ]
  },
  {
   "cell_type": "code",
   "execution_count": null,
   "id": "45a47f40",
   "metadata": {},
   "outputs": [],
   "source": [
    "lst = []\n",
    "\n",
    "for i in range(10):\n",
    "    if i>2:\n",
    "        lst.append(i**2)\n",
    "    \n",
    "print(lst)\n",
    "\n",
    "print()"
   ]
  },
  {
   "cell_type": "code",
   "execution_count": null,
   "id": "964722da",
   "metadata": {},
   "outputs": [],
   "source": [
    "\n",
    "lstn = []\n",
    "print([lstn.append(i**2) for i in range(10) if i>2])\n",
    "print(lstn)"
   ]
  },
  {
   "cell_type": "code",
   "execution_count": null,
   "id": "ac76046f",
   "metadata": {},
   "outputs": [],
   "source": [
    "### Basic Syntex   --------->          [expresion for item in iterable]\n",
    "### With Condition Logic ------>       [expression for itemm in iterable if condition]\n",
    "### Nested List Comprehension ------>  [expression for item1 in iterable1 for item2 in iterable2]\n",
    "## With if and else ------------>      [expression1 if condition else expression2 for i in iterable ]\n"
   ]
  },
  {
   "cell_type": "code",
   "execution_count": null,
   "id": "48f81535",
   "metadata": {},
   "outputs": [],
   "source": [
    "[x**2 for x in range(10)]"
   ]
  },
  {
   "cell_type": "code",
   "execution_count": null,
   "id": "66fa3f3a",
   "metadata": {},
   "outputs": [],
   "source": [
    "[x for x in range(10) if x%2 == 0 ]"
   ]
  },
  {
   "cell_type": "code",
   "execution_count": null,
   "id": "30d277a6",
   "metadata": {},
   "outputs": [],
   "source": [
    "lst1 = [1,2,3,4]\n",
    "lst2 = [\"a\",\"b\",\"c\",\"d\"]\n",
    "\n",
    "for i in lst1:\n",
    "    for j in lst2:a\n",
    "        print(i,j)\n",
    "\n",
    "\n",
    "[(i,j) for i in lst1 for j in lst2]"
   ]
  },
  {
   "cell_type": "code",
   "execution_count": null,
   "id": "2248e53c",
   "metadata": {},
   "outputs": [],
   "source": [
    "name = [\"python\",\"Genai\",\"Gemini\"]\n",
    "length = [len(i) for i in name]\n",
    "print(length)\n"
   ]
  },
  {
   "cell_type": "code",
   "execution_count": null,
   "id": "6ac45156",
   "metadata": {},
   "outputs": [],
   "source": [
    "[\"even\" if i%2==0 else \"odd\" for i in range(10)]"
   ]
  },
  {
   "cell_type": "code",
   "execution_count": null,
   "id": "cf0f7022",
   "metadata": {},
   "outputs": [],
   "source": [
    "##Create a list of even numbers from 1 to 20.\n",
    "\n",
    "[i for i in range(21) if i%2==0]"
   ]
  },
  {
   "cell_type": "code",
   "execution_count": null,
   "id": "fab6ed76",
   "metadata": {},
   "outputs": [],
   "source": [
    "##Create a list of numbers that are divisible by both 2 and 3 between 1 and 30.\n",
    "\n",
    "[i for i in range(1,31) if i%2==0 and i%3 == 0 ]"
   ]
  },
  {
   "cell_type": "code",
   "execution_count": null,
   "id": "1d1fd32f",
   "metadata": {},
   "outputs": [],
   "source": [
    "##Create a nested list comprehension to extract the square of each element from a list of lists.\n",
    "\n",
    "lst = [[1,2],[3,4],[5,6]]\n",
    "\n",
    "for i in lst:\n",
    "    for j in i:\n",
    "        print(j)\n",
    "\n",
    "[j**2 for i in lst for j in i ]"
   ]
  },
  {
   "cell_type": "code",
   "execution_count": null,
   "id": "ae124502",
   "metadata": {},
   "outputs": [],
   "source": [
    "matrix = [[1, 2], [3, 4], [5, 6]]\n",
    "squared_values = [x**2 for row in matrix for x in row]\n",
    "print(squared_values)\n"
   ]
  },
  {
   "cell_type": "code",
   "execution_count": null,
   "id": "425017c7",
   "metadata": {},
   "outputs": [],
   "source": [
    "names  = [\"Sriram\",\"Pepul\",\"TCS\",\"Itrend\"]\n",
    "\n",
    "for i in names:\n",
    "    print(i,len(i))\n",
    "\n",
    "{i:len(i) for i in names}\n",
    "\n"
   ]
  },
  {
   "cell_type": "code",
   "execution_count": null,
   "id": "49cd0633",
   "metadata": {},
   "outputs": [],
   "source": [
    "## Use else to replace negative numbers with \"Negative\" and positive numbers with \"Positive\" in a list.\n",
    "\n",
    "lst = [-1,2-3,4,5,6,-9]\n",
    "\n",
    "for i in lst:\n",
    "    print(i)\n",
    "\n",
    "[\"Positive\" if i>=0 else \"Negative\" for i in lst]"
   ]
  },
  {
   "cell_type": "code",
   "execution_count": null,
   "id": "1f719c93",
   "metadata": {},
   "outputs": [],
   "source": [
    "lst = [1,2]\n",
    "print(lst*1)\n",
    "\n"
   ]
  },
  {
   "cell_type": "code",
   "execution_count": null,
   "id": "e2396ba2",
   "metadata": {},
   "outputs": [],
   "source": [
    "lst = [1,2,3,4,5,\"Six\"]\n",
    "lst[-1] = 6\n",
    "print(lst.count(6))\n",
    "print(lst)"
   ]
  },
  {
   "cell_type": "code",
   "execution_count": null,
   "id": "2245c371",
   "metadata": {},
   "outputs": [],
   "source": [
    "lst  = (1,2,3,4,5,\"Six\")\n",
    "print(lst.count(2))\n",
    "# lst[-1] = 6\n",
    "print(lst)\n"
   ]
  },
  {
   "cell_type": "markdown",
   "id": "a797edc8",
   "metadata": {},
   "source": []
  },
  {
   "cell_type": "code",
   "execution_count": null,
   "id": "10fc35ef",
   "metadata": {},
   "outputs": [],
   "source": [
    "##Tuple Methods\n",
    "numbers = (1,2,2,3,10)\n",
    "print(numbers)\n",
    "\n",
    "print(numbers.count(2))\n",
    "print(numbers.index(10))"
   ]
  },
  {
   "cell_type": "code",
   "execution_count": null,
   "id": "651a387a",
   "metadata": {},
   "outputs": [],
   "source": [
    "##Packing And UNpacking Tuples (default)\n",
    "\n",
    "#Pack\n",
    "\n",
    "packed_tuple  = 1,11,11,\"sriram\",\"3.14\",\"1342\"\n",
    "\n",
    "print(type(packed_tuple))\n",
    "print(packed_tuple)"
   ]
  },
  {
   "cell_type": "code",
   "execution_count": null,
   "id": "f38f21f6",
   "metadata": {},
   "outputs": [],
   "source": [
    "## Unpack\n",
    "a,b,c,d,e,f = packed_tuple\n",
    "print(a)\n",
    "print(b)\n",
    "print(c)\n",
    "print(d)\n",
    "print(e)\n",
    "print(f)\n"
   ]
  },
  {
   "cell_type": "code",
   "execution_count": null,
   "id": "def0b9a2",
   "metadata": {},
   "outputs": [],
   "source": [
    "##unpacking with *\n",
    "\n",
    "numbers = (1,2,3,4,5,6,7)\n",
    "a,*b = numbers\n",
    "print(a)\n",
    "print(b)\n",
    "# print(c)\n"
   ]
  },
  {
   "cell_type": "code",
   "execution_count": null,
   "id": "63bf3bf0",
   "metadata": {},
   "outputs": [],
   "source": [
    "## Nested Tuple\n",
    "## Nested List\n",
    "\n",
    "lst = [[1,2,3,4],[\"A\",1,90],[\"sriram\",70]]\n",
    "\n",
    "print(lst)\n",
    "print(type(lst))\n",
    "\n",
    "print(lst[0][::2])\n",
    "\n",
    "[j for i in lst for j in i]"
   ]
  },
  {
   "cell_type": "code",
   "execution_count": null,
   "id": "8d9426be",
   "metadata": {},
   "outputs": [],
   "source": [
    "lst = ((1,2,3,34,6),(\"Sriram\",\"Ja\"),(\"iop\",3.14),(True, False))\n",
    "print(lst[3][-1])"
   ]
  },
  {
   "cell_type": "code",
   "execution_count": null,
   "id": "7157287e",
   "metadata": {},
   "outputs": [],
   "source": [
    "## Iterating over nested tuples\n",
    "\n",
    "for i in lst:\n",
    "    for j in i:\n",
    "        print(j,end = \" \")\n",
    "    print()\n"
   ]
  },
  {
   "cell_type": "code",
   "execution_count": null,
   "id": "ad5df1a9",
   "metadata": {},
   "outputs": [],
   "source": []
  }
 ],
 "metadata": {
  "kernelspec": {
   "display_name": "Python 3",
   "language": "python",
   "name": "python3"
  },
  "language_info": {
   "codemirror_mode": {
    "name": "ipython",
    "version": 3
   },
   "file_extension": ".py",
   "mimetype": "text/x-python",
   "name": "python",
   "nbconvert_exporter": "python",
   "pygments_lexer": "ipython3",
   "version": "3.12.0"
  }
 },
 "nbformat": 4,
 "nbformat_minor": 5
}
