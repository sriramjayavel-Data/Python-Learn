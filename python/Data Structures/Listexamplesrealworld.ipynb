{
 "cells": [
  {
   "cell_type": "code",
   "execution_count": 11,
   "id": "148c1c30",
   "metadata": {},
   "outputs": [
    {
     "name": "stdout",
     "output_type": "stream",
     "text": [
      "['Brush', 'Bath', 'Eat', 'Driving', 'at Office']\n",
      "['Brush', 'Bath', 'Eat', 'Driving']\n",
      "['Brush', 'Bath', 'Eat', 'Driving', 'Again buy new']\n",
      "['Brush', 'Bath', 'Eat', 'Driving']\n",
      "Don't forgat to brush\n",
      "4\n"
     ]
    }
   ],
   "source": [
    "to_do_list = [\"Brush\",\"Bath\",\"Eat\",\"Driving\",\"at Office\"]\n",
    "\n",
    "print(to_do_list)\n",
    "\n",
    "to_do_list.remove(\"at Office\")\n",
    "print(to_do_list)\n",
    "\n",
    "to_do_list.append(\"Again buy new\")\n",
    "print(to_do_list)\n",
    "to_do_list.pop()\n",
    "print(to_do_list)\n",
    "\n",
    "\n",
    "if \"Brush\" in to_do_list:\n",
    "    print(\"Don't forgat to brush\")\n",
    "\n",
    "count= 0\n",
    "for i in to_do_list:\n",
    "    count+=1\n",
    "\n",
    "print(count)\n"
   ]
  },
  {
   "cell_type": "code",
   "execution_count": 19,
   "id": "a2edb5ab",
   "metadata": {},
   "outputs": [
    {
     "name": "stdout",
     "output_type": "stream",
     "text": [
      "2\n"
     ]
    }
   ],
   "source": [
    "# Collecting user feedback\n",
    "feedback = [\"Great service!\", \"Very satisfied\", \"Could be better\", \"Excellent experience\"]\n",
    "\n",
    "# Adding new feedback\n",
    "feedback.append(\"Not happy with the service\")\n",
    "\n",
    "count_ = sum(1 for i in feedback if \"great\" in i.lower() or \"excellent\" in i.lower() )\n",
    "\n",
    "print(count_)"
   ]
  },
  {
   "cell_type": "code",
   "execution_count": 18,
   "id": "b54be1c1",
   "metadata": {},
   "outputs": [
    {
     "name": "stdout",
     "output_type": "stream",
     "text": [
      "Positive Feedback Count: 2\n",
      "User Feedback:\n",
      "- Great service!\n",
      "- Very satisfied\n",
      "- Could be better\n",
      "- Excellent experience\n",
      "- Not happy with the service\n"
     ]
    }
   ],
   "source": [
    "# Collecting user feedback\n",
    "feedback = [\"Great service!\", \"Very satisfied\", \"Could be better\", \"Excellent experience\"]\n",
    "\n",
    "# Adding new feedback\n",
    "feedback.append(\"Not happy with the service\")\n",
    "\n",
    "# Counting specific feedback\n",
    "positive_feedback_count = sum(\n",
    "    1 for comment in feedback if \"great\" in comment.lower() or \"excellent\" in comment.lower()\n",
    ")\n",
    "print(f\"Positive Feedback Count: {positive_feedback_count}\")\n",
    "\n",
    "# Printing all feedback\n",
    "print(\"User Feedback:\")\n",
    "for comment in feedback:\n",
    "    print(f\"- {comment}\")\n"
   ]
  }
 ],
 "metadata": {
  "kernelspec": {
   "display_name": "Python 3",
   "language": "python",
   "name": "python3"
  },
  "language_info": {
   "codemirror_mode": {
    "name": "ipython",
    "version": 3
   },
   "file_extension": ".py",
   "mimetype": "text/x-python",
   "name": "python",
   "nbconvert_exporter": "python",
   "pygments_lexer": "ipython3",
   "version": "3.12.0"
  }
 },
 "nbformat": 4,
 "nbformat_minor": 5
}
