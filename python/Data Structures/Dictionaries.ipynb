{
 "cells": [
  {
   "cell_type": "code",
   "execution_count": null,
   "id": "47bb5d96",
   "metadata": {},
   "outputs": [],
   "source": [
    "dicta = {\"a\":1,\"b\":2}\n",
    "print(dicta)\n",
    "\n"
   ]
  },
  {
   "cell_type": "code",
   "execution_count": null,
   "id": "49601208",
   "metadata": {},
   "outputs": [],
   "source": [
    "## Unorderd collection of items \n",
    "## store as a key : value pair \n",
    "## key must be unique and immutable\n",
    "\n",
    "dicta = {}\n",
    "print(dicta)\n",
    "print(type(dicta))"
   ]
  },
  {
   "cell_type": "code",
   "execution_count": null,
   "id": "f183100b",
   "metadata": {},
   "outputs": [],
   "source": [
    "lst = list()\n",
    "tup = tuple()\n",
    "my = dict()\n",
    "\n",
    "print(lst)\n",
    "print(tup)\n",
    "print(my)"
   ]
  },
  {
   "cell_type": "code",
   "execution_count": null,
   "id": "1459494a",
   "metadata": {},
   "outputs": [],
   "source": [
    "student = {\"name\":\"Sriram\" , \"age\":30,\"country\":\"india\"}\n",
    "print(student)\n",
    "\n",
    "student[\"name\"] = \"Sriram Jayavel\"\n",
    "print(student)\n",
    "\n",
    "print(student.keys())\n",
    "print(student.values())\n",
    "\n",
    "student[\"job role\"] = \"CEO\"\n",
    "print(student)\n",
    "\n",
    "student[\"name\"] = \"sriram jayavel\"\n",
    "print(student)"
   ]
  },
  {
   "cell_type": "code",
   "execution_count": null,
   "id": "7825aa46",
   "metadata": {},
   "outputs": [],
   "source": [
    "## accessing Dict Elements\n",
    "\n",
    "print(student)\n",
    "\n",
    "# student[\"name\"]\n",
    "student.get(\"name\")\n",
    "student.get(\"sriram jayavel\",\"Not Available\")"
   ]
  },
  {
   "cell_type": "code",
   "execution_count": null,
   "id": "69787334",
   "metadata": {},
   "outputs": [],
   "source": [
    "## Modifing Dictionary Elements\n",
    "## Dictionaries are mutable so you can add ,update or delete the elements\n",
    "\n",
    "\n",
    "print(student)"
   ]
  },
  {
   "cell_type": "code",
   "execution_count": null,
   "id": "0d33264e",
   "metadata": {},
   "outputs": [],
   "source": [
    "student[\"PH\"] = 9751393954\n",
    "\n",
    "print(student)"
   ]
  },
  {
   "cell_type": "code",
   "execution_count": null,
   "id": "5f6c49c0",
   "metadata": {},
   "outputs": [],
   "source": [
    "del student[list(student.keys())[1]]"
   ]
  },
  {
   "cell_type": "code",
   "execution_count": null,
   "id": "a83e3132",
   "metadata": {},
   "outputs": [],
   "source": [
    "print(student)"
   ]
  },
  {
   "cell_type": "code",
   "execution_count": null,
   "id": "6ce76cc7",
   "metadata": {},
   "outputs": [],
   "source": [
    "del student[\"job role\"]\n",
    "\n",
    "print(student)"
   ]
  },
  {
   "cell_type": "code",
   "execution_count": null,
   "id": "ed8ff702",
   "metadata": {},
   "outputs": [],
   "source": [
    "keys  =  student.keys()\n",
    "print(list(keys))\n",
    "\n",
    "values = student.values()\n",
    "print(tuple(values))\n",
    "\n",
    "\n",
    "items = student.items()\n",
    "print(list(items))"
   ]
  },
  {
   "cell_type": "code",
   "execution_count": null,
   "id": "16d47f10",
   "metadata": {},
   "outputs": [],
   "source": [
    "## Shallow Copy\n",
    "print(student)"
   ]
  },
  {
   "cell_type": "code",
   "execution_count": null,
   "id": "09cc561b",
   "metadata": {},
   "outputs": [],
   "source": [
    "student_copy1 = student\n",
    "\n",
    "print(student)\n",
    "print(student_copy1)"
   ]
  },
  {
   "cell_type": "code",
   "execution_count": null,
   "id": "ae499414",
   "metadata": {},
   "outputs": [],
   "source": [
    "student_copy1[\"name\"] = \"Sriram\""
   ]
  },
  {
   "cell_type": "code",
   "execution_count": null,
   "id": "f31270c3",
   "metadata": {},
   "outputs": [],
   "source": [
    "student = student_copy1.copy() ## Shallow Copy\n",
    "\n",
    "print(student)\n",
    "print(student_copy1)"
   ]
  },
  {
   "cell_type": "code",
   "execution_count": null,
   "id": "71b5904c",
   "metadata": {},
   "outputs": [],
   "source": [
    "student[\"name\"] = \"SJ\"\n",
    "print(student)\n",
    "print(student_copy1)"
   ]
  },
  {
   "cell_type": "code",
   "execution_count": null,
   "id": "dc18ad01",
   "metadata": {},
   "outputs": [],
   "source": [
    "## Iterating over Dictionaries\n",
    "\n",
    "print(student)\n",
    "\n",
    "key_ = []\n",
    "value_ =  []\n",
    "for i,j in student.items():\n",
    "    key_.append(i)\n",
    "    value_.append(j)\n",
    "\n",
    "\n",
    "print(key_)\n",
    "print(value_)\n",
    "\n",
    "        \n",
    "    \n",
    "\n",
    "\n"
   ]
  },
  {
   "cell_type": "code",
   "execution_count": null,
   "id": "83cb16b7",
   "metadata": {},
   "outputs": [],
   "source": [
    "## Nested Dictionaries\n",
    "students  = {\"student1\":{\"name\":\"Sri\",\"age\":30},\n",
    "             \"student2\":{\"name\":\"Ram\",\"age\":32}}\n",
    "\n",
    "print(students)\n",
    "\n",
    "print(students[\"student1\"][\"name\"])"
   ]
  },
  {
   "cell_type": "code",
   "execution_count": null,
   "id": "4893e833",
   "metadata": {},
   "outputs": [],
   "source": [
    "for i,j in students.items():\n",
    "    for a in j.values():\n",
    "        print(f\"{i} and {a}\")\n",
    "    "
   ]
  },
  {
   "cell_type": "code",
   "execution_count": null,
   "id": "8cde9451",
   "metadata": {},
   "outputs": [],
   "source": [
    "for key, pair in students.items():\n",
    "    print(\"Student_Key\",key)\n",
    "    for i,j in pair.items():\n",
    "        print(f\"{i}:{j}\")"
   ]
  },
  {
   "cell_type": "code",
   "execution_count": null,
   "id": "7f14bc26",
   "metadata": {},
   "outputs": [],
   "source": [
    "## Dictionary Comprehension\n",
    "\n",
    "\n",
    "\n",
    "\n",
    "lst = [1,1,1,2,2,\"Sri\",True,90,1,34]\n",
    "lst = [{i:lst.count(i)} for i in set(lst)]\n",
    "lst = lst.dict()"
   ]
  },
  {
   "cell_type": "code",
   "execution_count": 124,
   "id": "356a9ceb",
   "metadata": {},
   "outputs": [
    {
     "data": {
      "text/plain": [
       "{0: 0, 2: 4, 4: 16}"
      ]
     },
     "execution_count": 124,
     "metadata": {},
     "output_type": "execute_result"
    }
   ],
   "source": [
    "{i:i**2 for i in range(5) if i%2==0}"
   ]
  },
  {
   "cell_type": "code",
   "execution_count": 129,
   "id": "72fbf7ee",
   "metadata": {},
   "outputs": [
    {
     "data": {
      "text/plain": [
       "{0: 'even',\n",
       " 1: 'odd',\n",
       " 2: 'even',\n",
       " 3: 'odd',\n",
       " 4: 'even',\n",
       " 5: 'odd',\n",
       " 6: 'even',\n",
       " 7: 'odd',\n",
       " 8: 'even',\n",
       " 9: 'odd'}"
      ]
     },
     "execution_count": 129,
     "metadata": {},
     "output_type": "execute_result"
    }
   ],
   "source": [
    "{ i:\"even\"  if i%2 ==0 else \"odd\" for i in range(10)}"
   ]
  },
  {
   "cell_type": "code",
   "execution_count": 130,
   "id": "8a153ddd",
   "metadata": {},
   "outputs": [
    {
     "data": {
      "text/plain": [
       "{0: 0, 1: 1, 2: 4, 3: 9, 4: 16, 5: 25, 6: 36, 7: 49, 8: 64, 9: 81}"
      ]
     },
     "execution_count": 130,
     "metadata": {},
     "output_type": "execute_result"
    }
   ],
   "source": [
    "{ i:i**2 for i in range(10)}"
   ]
  },
  {
   "cell_type": "code",
   "execution_count": 166,
   "id": "83c395c0",
   "metadata": {},
   "outputs": [
    {
     "data": {
      "text/plain": [
       "{1: 2, 2: 6, 23: 1, 3: 3, 33: 1}"
      ]
     },
     "execution_count": 166,
     "metadata": {},
     "output_type": "execute_result"
    }
   ],
   "source": [
    "## USe Dictionary to find frequenct values in list\n",
    "\n",
    "lst = [1,1,2,2,2,2,2,2,23,3,3,3,33]\n",
    "fre = {}\n",
    "\n",
    "{i:lst.count(i) for i in lst}"
   ]
  },
  {
   "cell_type": "code",
   "execution_count": 167,
   "id": "2fc2d8ce",
   "metadata": {},
   "outputs": [
    {
     "name": "stdout",
     "output_type": "stream",
     "text": [
      "{1: 2, 2: 6, 23: 1, 3: 3, 33: 1}\n"
     ]
    }
   ],
   "source": [
    "for i in lst:\n",
    "    if i in fre:\n",
    "        fre[i] = fre[i]+1\n",
    "    else:\n",
    "        fre[i]=1\n",
    "\n",
    "print(fre)"
   ]
  },
  {
   "cell_type": "code",
   "execution_count": 168,
   "id": "2e55e7ce",
   "metadata": {},
   "outputs": [
    {
     "name": "stdout",
     "output_type": "stream",
     "text": [
      "{'a': 1, 'b': 4, 'c': 1}\n"
     ]
    }
   ],
   "source": [
    "##Merge 2 dict into one\n",
    "\n",
    "dict1 = {\"a\":1,\"b\":2}\n",
    "dict2 = {\"b\":4,\"c\":1}\n",
    "\n",
    "m_dict = {**dict1,**dict2}\n",
    "print(m_dict)"
   ]
  },
  {
   "cell_type": "code",
   "execution_count": null,
   "id": "d5b2df79",
   "metadata": {},
   "outputs": [],
   "source": []
  }
 ],
 "metadata": {
  "kernelspec": {
   "display_name": "Python 3",
   "language": "python",
   "name": "python3"
  },
  "language_info": {
   "codemirror_mode": {
    "name": "ipython",
    "version": 3
   },
   "file_extension": ".py",
   "mimetype": "text/x-python",
   "name": "python",
   "nbconvert_exporter": "python",
   "pygments_lexer": "ipython3",
   "version": "3.12.0"
  }
 },
 "nbformat": 4,
 "nbformat_minor": 5
}
